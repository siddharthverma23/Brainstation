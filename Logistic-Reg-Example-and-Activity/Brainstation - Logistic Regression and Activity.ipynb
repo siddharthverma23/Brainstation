{
 "cells": [
  {
   "cell_type": "markdown",
   "id": "8883cc21",
   "metadata": {
    "papermill": {
     "duration": 0.004551,
     "end_time": "2023-07-03T02:27:27.797978",
     "exception": false,
     "start_time": "2023-07-03T02:27:27.793427",
     "status": "completed"
    },
    "tags": []
   },
   "source": [
    "# Telco Customer Churn Analysis\n",
    "\n",
    "## Introduction to the Dataset\n",
    "\n",
    "This project involves the analysis of telecommunication customer churn data to create a model that predicts customer churn. The dataset is provided by Kaggle, with the original source from IBM Sample Data Sets.\n",
    "\n",
    "## Data Preprocessing\n",
    "\n",
    "Each row in the dataset represents a customer, and each column represents an attribute of the customer. The 'CustomerID', which is not necessary for the analysis, is removed. Data in the form of strings is transformed into numerical form using label encoding.\n",
    "\n",
    "## Model Training\n",
    "\n",
    "Before the analysis, the dataset is split into training and testing data. The training data is standardized using the StandardScaler. A logistic regression model is then used to predict customer churn.\n",
    "\n",
    "## Model Evaluation\n",
    "\n",
    "The accuracy and classification report of the trained model are outputted to evaluate the model's performance. This allows us to identify the variables that are important in predicting customer churn, which can be utilized in developing customer retention strategies."
   ]
  },
  {
   "cell_type": "markdown",
   "id": "45fe86b8",
   "metadata": {
    "papermill": {
     "duration": 0.004354,
     "end_time": "2023-07-03T02:27:27.806967",
     "exception": false,
     "start_time": "2023-07-03T02:27:27.802613",
     "status": "completed"
    },
    "tags": []
   },
   "source": [
    "# Telco Customer Churn Analysis\n"
   ]
  },
  {
   "cell_type": "code",
   "execution_count": 1,
   "id": "5ab3a91e",
   "metadata": {
    "execution": {
     "iopub.execute_input": "2023-07-03T02:27:27.818012Z",
     "iopub.status.busy": "2023-07-03T02:27:27.817653Z",
     "iopub.status.idle": "2023-07-03T02:27:27.834325Z",
     "shell.execute_reply": "2023-07-03T02:27:27.833413Z"
    },
    "papermill": {
     "duration": 0.024516,
     "end_time": "2023-07-03T02:27:27.836196",
     "exception": false,
     "start_time": "2023-07-03T02:27:27.811680",
     "status": "completed"
    },
    "tags": []
   },
   "outputs": [],
   "source": [
    "# This Python 3 environment comes with many helpful analytics libraries installed\n",
    "# It is defined by the kaggle/python Docker image: https://github.com/kaggle/docker-python\n",
    "# For example, here's several helpful packages to load\n",
    "\n",
    "import numpy as np # linear algebra\n",
    "import pandas as pd # data processing, CSV file I/O (e.g. pd.read_csv)\n",
    "\n",
    "# Input data files are available in the read-only \"../input/\" directory\n",
    "# For example, running this (by clicking run or pressing Shift+Enter) will list all files under the input directory\n",
    "\n",
    "import os\n",
    "for dirname, _, filenames in os.walk('/kaggle/input'):\n",
    "    for filename in filenames:\n",
    "        print(os.path.join(dirname, filename))\n",
    "\n",
    "# You can write up to 20GB to the current directory (/kaggle/working/) that gets preserved as output when you create a version using \"Save & Run All\" \n",
    "# You can also write temporary files to /kaggle/temp/, but they won't be saved outside of the current session"
   ]
  },
  {
   "cell_type": "code",
   "execution_count": 4,
   "id": "c573cb4a",
   "metadata": {
    "execution": {
     "iopub.execute_input": "2023-07-03T02:27:27.860345Z",
     "iopub.status.busy": "2023-07-03T02:27:27.859571Z",
     "iopub.status.idle": "2023-07-03T02:27:27.915930Z",
     "shell.execute_reply": "2023-07-03T02:27:27.915287Z"
    },
    "papermill": {
     "duration": 0.06445,
     "end_time": "2023-07-03T02:27:27.917884",
     "exception": false,
     "start_time": "2023-07-03T02:27:27.853434",
     "status": "completed"
    },
    "tags": []
   },
   "outputs": [],
   "source": [
    "import pandas as pd\n",
    "df = pd.read_csv(\"Telco_Customer_Churn_Log_Reg.csv\")"
   ]
  },
  {
   "cell_type": "markdown",
   "id": "d51c9d24",
   "metadata": {
    "papermill": {
     "duration": 0.004554,
     "end_time": "2023-07-03T02:27:27.927555",
     "exception": false,
     "start_time": "2023-07-03T02:27:27.923001",
     "status": "completed"
    },
    "tags": []
   },
   "source": [
    "check types"
   ]
  },
  {
   "cell_type": "code",
   "execution_count": 5,
   "id": "42d35ab6",
   "metadata": {
    "execution": {
     "iopub.execute_input": "2023-07-03T02:27:27.939513Z",
     "iopub.status.busy": "2023-07-03T02:27:27.938413Z",
     "iopub.status.idle": "2023-07-03T02:27:27.953594Z",
     "shell.execute_reply": "2023-07-03T02:27:27.951986Z"
    },
    "papermill": {
     "duration": 0.023251,
     "end_time": "2023-07-03T02:27:27.955702",
     "exception": false,
     "start_time": "2023-07-03T02:27:27.932451",
     "status": "completed"
    },
    "tags": []
   },
   "outputs": [
    {
     "data": {
      "text/plain": [
       "customerID           object\n",
       "gender               object\n",
       "SeniorCitizen         int64\n",
       "Partner              object\n",
       "Dependents           object\n",
       "tenure                int64\n",
       "PhoneService         object\n",
       "MultipleLines        object\n",
       "InternetService      object\n",
       "OnlineSecurity       object\n",
       "OnlineBackup         object\n",
       "DeviceProtection     object\n",
       "TechSupport          object\n",
       "StreamingTV          object\n",
       "StreamingMovies      object\n",
       "Contract             object\n",
       "PaperlessBilling     object\n",
       "PaymentMethod        object\n",
       "MonthlyCharges      float64\n",
       "TotalCharges         object\n",
       "Churn                object\n",
       "dtype: object"
      ]
     },
     "execution_count": 5,
     "metadata": {},
     "output_type": "execute_result"
    }
   ],
   "source": [
    "df.dtypes"
   ]
  },
  {
   "cell_type": "markdown",
   "id": "a294ee9e",
   "metadata": {
    "papermill": {
     "duration": 0.004868,
     "end_time": "2023-07-03T02:27:27.965747",
     "exception": false,
     "start_time": "2023-07-03T02:27:27.960879",
     "status": "completed"
    },
    "tags": []
   },
   "source": [
    "## See Labels"
   ]
  },
  {
   "cell_type": "code",
   "execution_count": 6,
   "id": "e33f886a",
   "metadata": {
    "execution": {
     "iopub.execute_input": "2023-07-03T02:27:27.977237Z",
     "iopub.status.busy": "2023-07-03T02:27:27.976506Z",
     "iopub.status.idle": "2023-07-03T02:27:27.982311Z",
     "shell.execute_reply": "2023-07-03T02:27:27.980946Z"
    },
    "papermill": {
     "duration": 0.01457,
     "end_time": "2023-07-03T02:27:27.985143",
     "exception": false,
     "start_time": "2023-07-03T02:27:27.970573",
     "status": "completed"
    },
    "tags": []
   },
   "outputs": [
    {
     "name": "stdout",
     "output_type": "stream",
     "text": [
      "Index(['customerID', 'gender', 'SeniorCitizen', 'Partner', 'Dependents',\n",
      "       'tenure', 'PhoneService', 'MultipleLines', 'InternetService',\n",
      "       'OnlineSecurity', 'OnlineBackup', 'DeviceProtection', 'TechSupport',\n",
      "       'StreamingTV', 'StreamingMovies', 'Contract', 'PaperlessBilling',\n",
      "       'PaymentMethod', 'MonthlyCharges', 'TotalCharges', 'Churn'],\n",
      "      dtype='object')\n"
     ]
    }
   ],
   "source": [
    "labels = df.columns\n",
    "\n",
    "print(labels)"
   ]
  },
  {
   "cell_type": "code",
   "execution_count": 7,
   "id": "335dec6e",
   "metadata": {
    "execution": {
     "iopub.execute_input": "2023-07-03T02:27:27.997727Z",
     "iopub.status.busy": "2023-07-03T02:27:27.997399Z",
     "iopub.status.idle": "2023-07-03T02:27:28.022110Z",
     "shell.execute_reply": "2023-07-03T02:27:28.020866Z"
    },
    "papermill": {
     "duration": 0.033156,
     "end_time": "2023-07-03T02:27:28.023912",
     "exception": false,
     "start_time": "2023-07-03T02:27:27.990756",
     "status": "completed"
    },
    "tags": []
   },
   "outputs": [
    {
     "name": "stdout",
     "output_type": "stream",
     "text": [
      "   gender  SeniorCitizen Partner Dependents  tenure PhoneService  \\\n",
      "0  Female              0     Yes         No       1           No   \n",
      "1    Male              0      No         No      34          Yes   \n",
      "2    Male              0      No         No       2          Yes   \n",
      "\n",
      "      MultipleLines InternetService OnlineSecurity OnlineBackup  \\\n",
      "0  No phone service             DSL             No          Yes   \n",
      "1                No             DSL            Yes           No   \n",
      "2                No             DSL            Yes          Yes   \n",
      "\n",
      "  DeviceProtection TechSupport StreamingTV StreamingMovies        Contract  \\\n",
      "0               No          No          No              No  Month-to-month   \n",
      "1              Yes          No          No              No        One year   \n",
      "2               No          No          No              No  Month-to-month   \n",
      "\n",
      "  PaperlessBilling     PaymentMethod  MonthlyCharges TotalCharges Churn  \n",
      "0              Yes  Electronic check           29.85        29.85    No  \n",
      "1               No      Mailed check           56.95       1889.5    No  \n",
      "2              Yes      Mailed check           53.85       108.15   Yes  \n"
     ]
    }
   ],
   "source": [
    "import pandas as pd\n",
    "#remove enrollee id (since its irrelivent)\n",
    "df = df.drop(['customerID'], axis=1)\n",
    "print(df.head(3))"
   ]
  },
  {
   "cell_type": "markdown",
   "id": "20d256cb",
   "metadata": {
    "papermill": {
     "duration": 0.004944,
     "end_time": "2023-07-03T02:27:28.034176",
     "exception": false,
     "start_time": "2023-07-03T02:27:28.029232",
     "status": "completed"
    },
    "tags": []
   },
   "source": [
    "## NaN check"
   ]
  },
  {
   "cell_type": "code",
   "execution_count": 8,
   "id": "47f3630b",
   "metadata": {
    "execution": {
     "iopub.execute_input": "2023-07-03T02:27:28.046270Z",
     "iopub.status.busy": "2023-07-03T02:27:28.045918Z",
     "iopub.status.idle": "2023-07-03T02:27:28.079174Z",
     "shell.execute_reply": "2023-07-03T02:27:28.078108Z"
    },
    "papermill": {
     "duration": 0.041719,
     "end_time": "2023-07-03T02:27:28.081170",
     "exception": false,
     "start_time": "2023-07-03T02:27:28.039451",
     "status": "completed"
    },
    "tags": []
   },
   "outputs": [
    {
     "name": "stdout",
     "output_type": "stream",
     "text": [
      "['TotalCharges']\n"
     ]
    },
    {
     "data": {
      "text/plain": [
       "TotalCharges    11\n",
       "dtype: int64"
      ]
     },
     "execution_count": 8,
     "metadata": {},
     "output_type": "execute_result"
    }
   ],
   "source": [
    "columns_to_convert = ['TotalCharges', 'MonthlyCharges']  # List of column names to convert\n",
    "\n",
    "for column in columns_to_convert:\n",
    "    df[column] = pd.to_numeric(df[column], errors='coerce')\n",
    "\n",
    "# Check for NaN values in specific columns\n",
    "nan_labels = df[columns_to_convert].columns[df[columns_to_convert].isna().any()].tolist()\n",
    "\n",
    "print(nan_labels)\n",
    "df.isnull()[nan_labels].sum()\n"
   ]
  },
  {
   "cell_type": "code",
   "execution_count": 9,
   "id": "de1cd1af",
   "metadata": {
    "execution": {
     "iopub.execute_input": "2023-07-03T02:27:28.094446Z",
     "iopub.status.busy": "2023-07-03T02:27:28.093867Z",
     "iopub.status.idle": "2023-07-03T02:27:28.100504Z",
     "shell.execute_reply": "2023-07-03T02:27:28.099518Z"
    },
    "papermill": {
     "duration": 0.015669,
     "end_time": "2023-07-03T02:27:28.102466",
     "exception": false,
     "start_time": "2023-07-03T02:27:28.086797",
     "status": "completed"
    },
    "tags": []
   },
   "outputs": [
    {
     "name": "stdout",
     "output_type": "stream",
     "text": [
      "Index([488, 753, 936, 1082, 1340, 3331, 3826, 4380, 5218, 6670, 6754], dtype='int64')\n"
     ]
    }
   ],
   "source": [
    "null_total_charges = df['TotalCharges'].isnull()\n",
    "null_rows = df.loc[null_total_charges]\n",
    "\n",
    "# Print the indices of the null rows\n",
    "print(null_rows.index)\n"
   ]
  },
  {
   "cell_type": "code",
   "execution_count": 10,
   "id": "1e9b2306",
   "metadata": {
    "execution": {
     "iopub.execute_input": "2023-07-03T02:27:28.115559Z",
     "iopub.status.busy": "2023-07-03T02:27:28.115241Z",
     "iopub.status.idle": "2023-07-03T02:27:28.126730Z",
     "shell.execute_reply": "2023-07-03T02:27:28.125353Z"
    },
    "papermill": {
     "duration": 0.020599,
     "end_time": "2023-07-03T02:27:28.128889",
     "exception": false,
     "start_time": "2023-07-03T02:27:28.108290",
     "status": "completed"
    },
    "tags": []
   },
   "outputs": [
    {
     "name": "stdout",
     "output_type": "stream",
     "text": [
      "Dropped 11 rows.\n"
     ]
    }
   ],
   "source": [
    "# Count the number of NaN rows before dropping\n",
    "nan_count_before = df['TotalCharges'].isnull().sum()\n",
    "\n",
    "# Drop the NaN rows\n",
    "df = df.dropna(subset=['TotalCharges'])\n",
    "\n",
    "# Count the number of NaN rows after dropping\n",
    "nan_count_after = df['TotalCharges'].isnull().sum()\n",
    "\n",
    "# Calculate and print the number of rows dropped\n",
    "rows_dropped = nan_count_before - nan_count_after\n",
    "print(f\"Dropped {rows_dropped} rows.\")\n"
   ]
  },
  {
   "cell_type": "markdown",
   "id": "124dbab7",
   "metadata": {
    "papermill": {
     "duration": 0.005257,
     "end_time": "2023-07-03T02:27:28.140543",
     "exception": false,
     "start_time": "2023-07-03T02:27:28.135286",
     "status": "completed"
    },
    "tags": []
   },
   "source": [
    "no nan now"
   ]
  },
  {
   "cell_type": "markdown",
   "id": "31cf6905",
   "metadata": {
    "papermill": {
     "duration": 0.005445,
     "end_time": "2023-07-03T02:27:28.151323",
     "exception": false,
     "start_time": "2023-07-03T02:27:28.145878",
     "status": "completed"
    },
    "tags": []
   },
   "source": [
    "## Data processing"
   ]
  },
  {
   "cell_type": "code",
   "execution_count": 11,
   "id": "b4282944",
   "metadata": {
    "execution": {
     "iopub.execute_input": "2023-07-03T02:27:28.164477Z",
     "iopub.status.busy": "2023-07-03T02:27:28.163806Z",
     "iopub.status.idle": "2023-07-03T02:27:28.188048Z",
     "shell.execute_reply": "2023-07-03T02:27:28.186416Z"
    },
    "papermill": {
     "duration": 0.033731,
     "end_time": "2023-07-03T02:27:28.190574",
     "exception": false,
     "start_time": "2023-07-03T02:27:28.156843",
     "status": "completed"
    },
    "tags": []
   },
   "outputs": [
    {
     "name": "stdout",
     "output_type": "stream",
     "text": [
      "Unique items in column 'gender':\n",
      "['Female' 'Male']\n",
      "\n",
      "Unique items in column 'SeniorCitizen':\n",
      "[0 1]\n",
      "\n",
      "Unique items in column 'Partner':\n",
      "['Yes' 'No']\n",
      "\n",
      "Unique items in column 'Dependents':\n",
      "['No' 'Yes']\n",
      "\n",
      "Unique items in column 'tenure':\n",
      "[ 1 34  2 45  8 22 10 28 62 13 16 58 49 25 69 52 71 21 12 30 47 72 17 27\n",
      "  5 46 11 70 63 43 15 60 18 66  9  3 31 50 64 56  7 42 35 48 29 65 38 68\n",
      " 32 55 37 36 41  6  4 33 67 23 57 61 14 20 53 40 59 24 44 19 54 51 26 39]\n",
      "\n",
      "Unique items in column 'PhoneService':\n",
      "['No' 'Yes']\n",
      "\n",
      "Unique items in column 'MultipleLines':\n",
      "['No phone service' 'No' 'Yes']\n",
      "\n",
      "Unique items in column 'InternetService':\n",
      "['DSL' 'Fiber optic' 'No']\n",
      "\n",
      "Unique items in column 'OnlineSecurity':\n",
      "['No' 'Yes' 'No internet service']\n",
      "\n",
      "Unique items in column 'OnlineBackup':\n",
      "['Yes' 'No' 'No internet service']\n",
      "\n",
      "Unique items in column 'DeviceProtection':\n",
      "['No' 'Yes' 'No internet service']\n",
      "\n",
      "Unique items in column 'TechSupport':\n",
      "['No' 'Yes' 'No internet service']\n",
      "\n",
      "Unique items in column 'StreamingTV':\n",
      "['No' 'Yes' 'No internet service']\n",
      "\n",
      "Unique items in column 'StreamingMovies':\n",
      "['No' 'Yes' 'No internet service']\n",
      "\n",
      "Unique items in column 'Contract':\n",
      "['Month-to-month' 'One year' 'Two year']\n",
      "\n",
      "Unique items in column 'PaperlessBilling':\n",
      "['Yes' 'No']\n",
      "\n",
      "Unique items in column 'PaymentMethod':\n",
      "['Electronic check' 'Mailed check' 'Bank transfer (automatic)'\n",
      " 'Credit card (automatic)']\n",
      "\n",
      "Unique items in column 'MonthlyCharges':\n",
      "[29.85 56.95 53.85 ... 63.1  44.2  78.7 ]\n",
      "\n",
      "Unique items in column 'TotalCharges':\n",
      "[  29.85 1889.5   108.15 ...  346.45  306.6  6844.5 ]\n",
      "\n",
      "Unique items in column 'Churn':\n",
      "['No' 'Yes']\n",
      "\n"
     ]
    }
   ],
   "source": [
    "#check every unique data\n",
    "import pandas as pd\n",
    "\n",
    "for column in df.columns:\n",
    "    print(f\"Unique items in column '{column}':\")\n",
    "    print(df[column].unique())\n",
    "    print()"
   ]
  },
  {
   "cell_type": "code",
   "execution_count": 12,
   "id": "cd144f9f",
   "metadata": {
    "execution": {
     "iopub.execute_input": "2023-07-03T02:27:28.204429Z",
     "iopub.status.busy": "2023-07-03T02:27:28.204090Z",
     "iopub.status.idle": "2023-07-03T02:27:29.515315Z",
     "shell.execute_reply": "2023-07-03T02:27:29.513751Z"
    },
    "papermill": {
     "duration": 1.320737,
     "end_time": "2023-07-03T02:27:29.517393",
     "exception": false,
     "start_time": "2023-07-03T02:27:28.196656",
     "status": "completed"
    },
    "tags": []
   },
   "outputs": [
    {
     "name": "stdout",
     "output_type": "stream",
     "text": [
      "   gender  SeniorCitizen  Partner  Dependents  tenure  PhoneService  \\\n",
      "0       0              0        1           0       0             0   \n",
      "1       1              0        0           0      33             1   \n",
      "2       1              0        0           0       1             1   \n",
      "\n",
      "   MultipleLines  InternetService  OnlineSecurity  OnlineBackup  \\\n",
      "0              1                0               0             2   \n",
      "1              0                0               2             0   \n",
      "2              0                0               2             2   \n",
      "\n",
      "   DeviceProtection  TechSupport  StreamingTV  StreamingMovies  Contract  \\\n",
      "0                 0            0            0                0         0   \n",
      "1                 2            0            0                0         1   \n",
      "2                 0            0            0                0         0   \n",
      "\n",
      "   PaperlessBilling  PaymentMethod  MonthlyCharges  TotalCharges  Churn  \n",
      "0                 1              2             142            74      0  \n",
      "1                 0              3             497          3624      0  \n",
      "2                 1              3             435           536      1  \n"
     ]
    }
   ],
   "source": [
    "#str to int\n",
    "from sklearn.preprocessing import LabelEncoder\n",
    "\n",
    "# Initialize a LabelEncoder\n",
    "le = LabelEncoder()\n",
    "\n",
    "# List of columns to encode (except customer ID)\n",
    "cols_to_encode = ['gender', 'SeniorCitizen', 'Partner', 'Dependents',\n",
    "        'tenure', 'PhoneService', 'MultipleLines', 'InternetService',\n",
    "        'OnlineSecurity', 'OnlineBackup', 'DeviceProtection', 'TechSupport',\n",
    "        'StreamingTV', 'StreamingMovies', 'Contract', 'PaperlessBilling',\n",
    "        'PaymentMethod', 'MonthlyCharges', 'TotalCharges', 'Churn']\n",
    "\n",
    "# Iterate over each categorical column and transform it\n",
    "for col in cols_to_encode:\n",
    "    df[col] = le.fit_transform(df[col])\n",
    "    \n",
    "print(df.head(3))"
   ]
  },
  {
   "cell_type": "markdown",
   "id": "ecccd455",
   "metadata": {
    "papermill": {
     "duration": 0.005594,
     "end_time": "2023-07-03T02:27:29.529070",
     "exception": false,
     "start_time": "2023-07-03T02:27:29.523476",
     "status": "completed"
    },
    "tags": []
   },
   "source": [
    "## Split train/test"
   ]
  },
  {
   "cell_type": "code",
   "execution_count": 13,
   "id": "1ce333c7",
   "metadata": {
    "execution": {
     "iopub.execute_input": "2023-07-03T02:27:29.542130Z",
     "iopub.status.busy": "2023-07-03T02:27:29.541751Z",
     "iopub.status.idle": "2023-07-03T02:27:29.662843Z",
     "shell.execute_reply": "2023-07-03T02:27:29.661105Z"
    },
    "papermill": {
     "duration": 0.130394,
     "end_time": "2023-07-03T02:27:29.665201",
     "exception": false,
     "start_time": "2023-07-03T02:27:29.534807",
     "status": "completed"
    },
    "tags": []
   },
   "outputs": [
    {
     "name": "stdout",
     "output_type": "stream",
     "text": [
      "(4922, 19)\n",
      "(2110, 19)\n",
      "(4922,)\n",
      "(2110,)\n"
     ]
    }
   ],
   "source": [
    "from sklearn.model_selection import train_test_split\n",
    "\n",
    "x = df.drop(['Churn'],axis=1)\n",
    "y = df['Churn']\n",
    "\n",
    "x_train,x_test,y_train,y_test = train_test_split(x,y,test_size=0.3,random_state=1,stratify=y) #stratify means even data\n",
    "\n",
    "print(x_train.shape)\n",
    "print(x_test.shape)\n",
    "print(y_train.shape)\n",
    "print(y_test.shape)"
   ]
  },
  {
   "cell_type": "markdown",
   "id": "4c2840fa",
   "metadata": {
    "papermill": {
     "duration": 0.005703,
     "end_time": "2023-07-03T02:27:29.677182",
     "exception": false,
     "start_time": "2023-07-03T02:27:29.671479",
     "status": "completed"
    },
    "tags": []
   },
   "source": [
    "## Standardization (not sure)"
   ]
  },
  {
   "cell_type": "code",
   "execution_count": 14,
   "id": "46160806",
   "metadata": {
    "execution": {
     "iopub.execute_input": "2023-07-03T02:27:29.690371Z",
     "iopub.status.busy": "2023-07-03T02:27:29.689952Z",
     "iopub.status.idle": "2023-07-03T02:27:29.708634Z",
     "shell.execute_reply": "2023-07-03T02:27:29.707368Z"
    },
    "papermill": {
     "duration": 0.027708,
     "end_time": "2023-07-03T02:27:29.710642",
     "exception": false,
     "start_time": "2023-07-03T02:27:29.682934",
     "status": "completed"
    },
    "tags": []
   },
   "outputs": [
    {
     "name": "stdout",
     "output_type": "stream",
     "text": [
      "      gender  SeniorCitizen  Partner  Dependents  tenure  PhoneService  \\\n",
      "1864       0              1        1           0      25             1   \n",
      "5830       1              0        0           1      29             1   \n",
      "\n",
      "      MultipleLines  InternetService  OnlineSecurity  OnlineBackup  \\\n",
      "1864              0                0               0             0   \n",
      "5830              2                2               1             1   \n",
      "\n",
      "      DeviceProtection  TechSupport  StreamingTV  StreamingMovies  Contract  \\\n",
      "1864                 2            0            0                2         1   \n",
      "5830                 1            1            1                1         1   \n",
      "\n",
      "      PaperlessBilling  PaymentMethod  MonthlyCharges  TotalCharges  \n",
      "1864                 0              3             556          3314  \n",
      "5830                 0              0              99          2011  \n"
     ]
    },
    {
     "data": {
      "text/plain": [
       "array([[ 0.99150298, -0.43824216, -0.9636822 ,  1.52501661, -0.09405287,\n",
       "         0.3252982 ,  1.11866127,  1.51777186,  0.24910529,  0.1052227 ,\n",
       "         0.1070938 ,  0.23657362,  0.01173025,  0.00804988,  0.36680198,\n",
       "        -1.19708825, -1.48109276, -1.21650014, -0.55632981],\n",
       "       [-1.00856984, -0.43824216,  1.03768649, -0.65573056,  1.53554574,\n",
       "         0.3252982 ,  1.11866127,  0.16442528, -0.91749435,  1.24347793,\n",
       "         1.24557263,  1.3998257 ,  1.14381392,  1.14009235,  0.36680198,\n",
       "         0.8353603 ,  0.39799954,  1.62025702,  1.69522124]])"
      ]
     },
     "execution_count": 14,
     "metadata": {},
     "output_type": "execute_result"
    }
   ],
   "source": [
    "from sklearn.preprocessing import StandardScaler\n",
    "sc = StandardScaler()\n",
    "sc.fit(x_train)\n",
    "\n",
    "x_train_std = sc.transform(x_train)\n",
    "x_test_std = sc.transform(x_test)\n",
    "\n",
    "#check standard datas\n",
    "print(x_train.head(2))\n",
    "x_train_std[1:3,]"
   ]
  },
  {
   "cell_type": "markdown",
   "id": "4668fcd2",
   "metadata": {
    "papermill": {
     "duration": 0.005833,
     "end_time": "2023-07-03T02:27:29.722739",
     "exception": false,
     "start_time": "2023-07-03T02:27:29.716906",
     "status": "completed"
    },
    "tags": []
   },
   "source": [
    "## Prediction"
   ]
  },
  {
   "cell_type": "code",
   "execution_count": 15,
   "id": "5cba6c74",
   "metadata": {
    "execution": {
     "iopub.execute_input": "2023-07-03T02:27:29.736808Z",
     "iopub.status.busy": "2023-07-03T02:27:29.736223Z",
     "iopub.status.idle": "2023-07-03T02:27:30.081743Z",
     "shell.execute_reply": "2023-07-03T02:27:30.080813Z"
    },
    "papermill": {
     "duration": 0.354974,
     "end_time": "2023-07-03T02:27:30.083670",
     "exception": false,
     "start_time": "2023-07-03T02:27:29.728696",
     "status": "completed"
    },
    "tags": []
   },
   "outputs": [
    {
     "name": "stdout",
     "output_type": "stream",
     "text": [
      "Accuracy: 0.8004739336492891\n",
      "Classification Report:\n",
      "              precision    recall  f1-score   support\n",
      "\n",
      "           0       0.84      0.90      0.87      1549\n",
      "           1       0.66      0.53      0.58       561\n",
      "\n",
      "    accuracy                           0.80      2110\n",
      "   macro avg       0.75      0.71      0.73      2110\n",
      "weighted avg       0.79      0.80      0.79      2110\n",
      "\n"
     ]
    }
   ],
   "source": [
    "#No Std\n",
    "from sklearn.linear_model import LogisticRegression  \n",
    "model = LogisticRegression(max_iter=1000) #fixed error\n",
    "model.fit(x_train, y_train)\n",
    "y_pred = model.predict(x_test)\n",
    "\n",
    "from sklearn.metrics import accuracy_score, classification_report\n",
    "\n",
    "accuracy = accuracy_score(y_test, y_pred)\n",
    "report = classification_report(y_test, y_pred)\n",
    "\n",
    "print(f\"Accuracy: {accuracy}\")\n",
    "print(\"Classification Report:\")\n",
    "print(report)"
   ]
  },
  {
   "cell_type": "code",
   "execution_count": 16,
   "id": "ccbbcc6f",
   "metadata": {
    "execution": {
     "iopub.execute_input": "2023-07-03T02:27:30.101192Z",
     "iopub.status.busy": "2023-07-03T02:27:30.100198Z",
     "iopub.status.idle": "2023-07-03T02:27:30.133061Z",
     "shell.execute_reply": "2023-07-03T02:27:30.132330Z"
    },
    "papermill": {
     "duration": 0.043876,
     "end_time": "2023-07-03T02:27:30.135295",
     "exception": false,
     "start_time": "2023-07-03T02:27:30.091419",
     "status": "completed"
    },
    "tags": []
   },
   "outputs": [
    {
     "name": "stdout",
     "output_type": "stream",
     "text": [
      "Accuracy: 0.8033175355450237\n",
      "Classification Report:\n",
      "              precision    recall  f1-score   support\n",
      "\n",
      "           0       0.84      0.90      0.87      1549\n",
      "           1       0.66      0.53      0.59       561\n",
      "\n",
      "    accuracy                           0.80      2110\n",
      "   macro avg       0.75      0.72      0.73      2110\n",
      "weighted avg       0.79      0.80      0.80      2110\n",
      "\n"
     ]
    }
   ],
   "source": [
    "#Std\n",
    "from sklearn.linear_model import LogisticRegression\n",
    "from sklearn.metrics import accuracy_score, classification_report\n",
    "\n",
    "model = LogisticRegression(max_iter=1000)  # max_iter 값 설정\n",
    "model.fit(x_train_std, y_train)  # 표준화된 x_train 사용\n",
    "y_pred = model.predict(x_test_std)  # 표준화된 x_test 사용\n",
    "\n",
    "accuracy = accuracy_score(y_test, y_pred)\n",
    "report = classification_report(y_test, y_pred)\n",
    "\n",
    "print(f\"Accuracy: {accuracy}\")\n",
    "print(\"Classification Report:\")\n",
    "print(report)"
   ]
  },
  {
   "cell_type": "markdown",
   "id": "529abfc2",
   "metadata": {},
   "source": [
    "## Activity"
   ]
  },
  {
   "cell_type": "markdown",
   "id": "64839727",
   "metadata": {},
   "source": [
    "#### Build a Random Forest Model for classification"
   ]
  },
  {
   "cell_type": "code",
   "execution_count": null,
   "id": "a6f79478",
   "metadata": {},
   "outputs": [],
   "source": [
    "## Import Random Forest"
   ]
  },
  {
   "cell_type": "code",
   "execution_count": null,
   "id": "3e7522fc",
   "metadata": {},
   "outputs": [],
   "source": [
    "## Fit Random Forest"
   ]
  },
  {
   "cell_type": "code",
   "execution_count": null,
   "id": "d69799b2",
   "metadata": {},
   "outputs": [],
   "source": [
    "## Predict Random Forest"
   ]
  },
  {
   "cell_type": "code",
   "execution_count": null,
   "id": "8cb7ff08",
   "metadata": {},
   "outputs": [],
   "source": [
    "## Evaluate Random Forest"
   ]
  },
  {
   "cell_type": "code",
   "execution_count": null,
   "id": "dc3a32de",
   "metadata": {},
   "outputs": [],
   "source": [
    "## Visualize Random Forest"
   ]
  },
  {
   "cell_type": "code",
   "execution_count": null,
   "id": "012a0eff",
   "metadata": {},
   "outputs": [],
   "source": [
    "## Google what are the parameters for Random Forest, and try a few different parameters"
   ]
  },
  {
   "cell_type": "code",
   "execution_count": null,
   "id": "09369873",
   "metadata": {},
   "outputs": [],
   "source": [
    "## Compare logistic regression to Random Forest"
   ]
  },
  {
   "cell_type": "markdown",
   "id": "c915dc55",
   "metadata": {},
   "source": [
    "#### Observations and Conclusions"
   ]
  },
  {
   "cell_type": "code",
   "execution_count": null,
   "id": "0ddf222a",
   "metadata": {},
   "outputs": [],
   "source": [
    "## What are your observations on Random Forest, which model performs better logistic regression or Random Forest?\n",
    "## How did changing the parameters impact the performance of Random Forest"
   ]
  }
 ],
 "metadata": {
  "kernelspec": {
   "display_name": "Python 3 (ipykernel)",
   "language": "python",
   "name": "python3"
  },
  "language_info": {
   "codemirror_mode": {
    "name": "ipython",
    "version": 3
   },
   "file_extension": ".py",
   "mimetype": "text/x-python",
   "name": "python",
   "nbconvert_exporter": "python",
   "pygments_lexer": "ipython3",
   "version": "3.10.9"
  },
  "papermill": {
   "default_parameters": {},
   "duration": 12.238719,
   "end_time": "2023-07-03T02:27:31.068428",
   "environment_variables": {},
   "exception": null,
   "input_path": "__notebook__.ipynb",
   "output_path": "__notebook__.ipynb",
   "parameters": {},
   "start_time": "2023-07-03T02:27:18.829709",
   "version": "2.4.0"
  }
 },
 "nbformat": 4,
 "nbformat_minor": 5
}
